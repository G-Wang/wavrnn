{
 "cells": [
  {
   "cell_type": "markdown",
   "metadata": {},
   "source": [
    "## Alternative Model (Preprocessing)\n",
    "You need to run this before you run notebook 5b.\n",
    "\n",
    "The wavs in your dataset will be converted to 9bit linear and 80-band mels."
   ]
  },
  {
   "cell_type": "code",
   "execution_count": null,
   "metadata": {},
   "outputs": [],
   "source": [
    "%matplotlib inline\n",
    "import matplotlib.pyplot as plt\n",
    "import math, pickle, os, glob\n",
    "import numpy as np\n",
    "from utils import *\n",
    "from dsp import *\n",
    "from tqdm import tqdm\n",
    "from IPython.display import Audio\n",
    "import nnmnkwii\n",
    "from nnmnkwii import preprocessing as P"
   ]
  },
  {
   "cell_type": "code",
   "execution_count": null,
   "metadata": {},
   "outputs": [],
   "source": [
    "bits = 16\n",
    "notebook_name = 'nb5'"
   ]
  },
  {
   "cell_type": "code",
   "execution_count": null,
   "metadata": {},
   "outputs": [],
   "source": [
    "# Point SEG_PATH to a folder containing your training wavs \n",
    "# Doesn't matter if it's LJspeech, CMU Arctic etc. it should work fine\n",
    "SEG_PATH = '/home/gary/DL_Projects/Datasets/TTS_DATA/LJ_SPeech_1.1/' \n",
    "DATA_PATH = 'data/nb5/'"
   ]
  },
  {
   "cell_type": "code",
   "execution_count": null,
   "metadata": {},
   "outputs": [],
   "source": [
    "def get_file(path):\n",
    "    files = os.listdir(path)\n",
    "    finals = [path+file for file in files]\n",
    "    return finals"
   ]
  },
  {
   "cell_type": "code",
   "execution_count": null,
   "metadata": {},
   "outputs": [],
   "source": [
    "wav_files = get_file(SEG_PATH)\n",
    "wav_files[0]"
   ]
  },
  {
   "cell_type": "code",
   "execution_count": null,
   "metadata": {},
   "outputs": [],
   "source": [
    "def convert_file(path) :\n",
    "    wav = load_wav(path, encode=False)\n",
    "    mel = melspectrogram(wav)\n",
    "    quant = (wav + 1.) * (2**bits - 1) / 2\n",
    "    return mel.astype(np.float32), quant.astype(np.int), wav"
   ]
  },
  {
   "cell_type": "code",
   "execution_count": null,
   "metadata": {},
   "outputs": [],
   "source": [
    "m, x , wav= convert_file(wav_files[1])"
   ]
  },
  {
   "cell_type": "code",
   "execution_count": null,
   "metadata": {},
   "outputs": [],
   "source": [
    "Audio(wav, rate=22050)"
   ]
  },
  {
   "cell_type": "code",
   "execution_count": null,
   "metadata": {},
   "outputs": [],
   "source": [
    "new_wav = nnmnkwii.preprocessing.preemphasis(wav, coef=0.97)\n",
    "Audio(new_wav, rate=22050)"
   ]
  },
  {
   "cell_type": "code",
   "execution_count": null,
   "metadata": {},
   "outputs": [],
   "source": [
    "Audio(x, rate=22050)"
   ]
  },
  {
   "cell_type": "code",
   "execution_count": null,
   "metadata": {},
   "outputs": [],
   "source": [
    "plot_spec(m)"
   ]
  },
  {
   "cell_type": "code",
   "execution_count": null,
   "metadata": {},
   "outputs": [],
   "source": [
    "plot(x)"
   ]
  },
  {
   "cell_type": "code",
   "execution_count": null,
   "metadata": {},
   "outputs": [],
   "source": [
    "x = 2 * x / (2**bits - 1) - 1"
   ]
  },
  {
   "cell_type": "code",
   "execution_count": null,
   "metadata": {},
   "outputs": [],
   "source": []
  },
  {
   "cell_type": "code",
   "execution_count": null,
   "metadata": {},
   "outputs": [],
   "source": [
    "QUANT_PATH = DATA_PATH + 'quant/'\n",
    "MEL_PATH = DATA_PATH + 'mel/'"
   ]
  },
  {
   "cell_type": "code",
   "execution_count": null,
   "metadata": {},
   "outputs": [],
   "source": [
    "wav_files[0].split('/')[-1][:-4]"
   ]
  },
  {
   "cell_type": "code",
   "execution_count": null,
   "metadata": {},
   "outputs": [],
   "source": [
    "# This will take a while depending on size of dataset\n",
    "dataset_ids = []\n",
    "for i, path in enumerate(tqdm(wav_files)):\n",
    "    id = path.split('/')[-1][:-4]\n",
    "    dataset_ids += [id]\n",
    "    m, x = convert_file(path)\n",
    "    np.save(\"data/nb5/mel/\"+str(id)+'.npy', m)\n",
    "    np.save(\"data/nb5/quant/\"+str(id)+'.npy', x)\n",
    "    #display('%i/%i', (i + 1, len(wav_files)))"
   ]
  },
  {
   "cell_type": "code",
   "execution_count": null,
   "metadata": {},
   "outputs": [],
   "source": [
    "with open(DATA_PATH + 'dataset_ids.pkl', 'wb') as f:\n",
    "    pickle.dump(dataset_ids, f)"
   ]
  },
  {
   "cell_type": "code",
   "execution_count": null,
   "metadata": {},
   "outputs": [],
   "source": []
  }
 ],
 "metadata": {
  "kernelspec": {
   "display_name": "tacatron",
   "language": "python",
   "name": "tacatron"
  },
  "language_info": {
   "codemirror_mode": {
    "name": "ipython",
    "version": 3
   },
   "file_extension": ".py",
   "mimetype": "text/x-python",
   "name": "python",
   "nbconvert_exporter": "python",
   "pygments_lexer": "ipython3",
   "version": "3.5.5"
  }
 },
 "nbformat": 4,
 "nbformat_minor": 2
}
